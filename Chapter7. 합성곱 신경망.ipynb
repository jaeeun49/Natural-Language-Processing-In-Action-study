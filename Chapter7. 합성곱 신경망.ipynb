{
 "cells": [
  {
   "cell_type": "code",
   "execution_count": 1,
   "metadata": {},
   "outputs": [],
   "source": [
    "import re\n",
    "import tarfile\n",
    "import tqdm\n",
    "import glob\n",
    "import os\n",
    "from random import shuffle\n",
    "\n",
    "import requests\n",
    "\n",
    "import numpy as np  # Keras takes care of most of this but it likes to see Numpy arrays\n",
    "from tensorflow.keras.preprocessing import sequence    # A helper module to handle padding input\n",
    "from tensorflow.keras.models import Sequential         # The base keras Neural Network model\n",
    "from tensorflow.keras.layers import Dense, Dropout, Activation   # The layer objects we will pile into the model\n",
    "from tensorflow.keras.layers import Conv1D, GlobalMaxPooling1D"
   ]
  },
  {
   "cell_type": "code",
   "execution_count": 2,
   "metadata": {},
   "outputs": [],
   "source": [
    "def pre_process_data(filepath):\n",
    "    positive_path = os.path.join(filepath,'pos')\n",
    "    negative_path = os.path.join(filepath,'neg')\n",
    "    pos_label = 1\n",
    "    neg_label = 0\n",
    "    dataset = []\n",
    "    \n",
    "    for filename in glob.glob(os.path.join(positive_path,'*.txt')):\n",
    "        with open(filename, 'r',encoding='UTF8') as f:\n",
    "            dataset.append((pos_label, f.read()))\n",
    "            \n",
    "    for filename in glob.glob(os.path.join(negative_path,'*.txt')):\n",
    "        with open(filename, 'r',encoding='UTF8') as f:\n",
    "            dataset.append((neg_label, f.read()))\n",
    "            \n",
    "    shuffle(dataset)\n",
    "    return dataset\n",
    "\n",
    "dataset = pre_process_data('C:/Users/today/NLP/data/aclImdb/train')"
   ]
  },
  {
   "cell_type": "code",
   "execution_count": 3,
   "metadata": {},
   "outputs": [
    {
     "data": {
      "text/plain": [
       "(0,\n",
       " \"Wow. This was probably the worst DCOM ever. I watched the first half hour and I laughed. Brenda Song plays Wendy, the popular girl with the hot jock boyfriend and stuck up friends who is determined to be Homecoming Queen. She is supposed to save the world as a warrior, and Shin comes to her aid to help her with her Martial Arts. Shin teaches her the skills of a snake, tiger, etc. and she has to learn certain techniques to save the world.<br /><br />This movie is great for kids who want to learn about Martial Arts and the Chinese culture but the acting and casting was horrible.<br /><br />Brenda Song is a comedic actress and I can't see her playing a serious role. It was laugh out loud funny watching her cry over Shin. Shin couldn't act at all, and everything was totally unbelievable.<br /><br />I watched this movie and tried to think of something similar, and the thing I came up with was the Power Rangers. This movie is so fake and the stunts were so Power Ranger-esquire that it was just corny and stupid. The characters weren't likable and I just couldn't stand to watch it. Disney really needs to take time to make some decent movies. High School Musical is the only movie that deserves to be on Disney Channel, along with other movies like Jumping Ship, Color of Friendship, Go Figure, Read It and Weep, & Stuck in the Suburbs.<br /><br />If you like action-adventure and corny jokes, you'll like this movie.\")"
      ]
     },
     "execution_count": 3,
     "metadata": {},
     "output_type": "execute_result"
    }
   ],
   "source": [
    "dataset[0]"
   ]
  }
 ],
 "metadata": {
  "kernelspec": {
   "display_name": "Python 3",
   "language": "python",
   "name": "python3"
  },
  "language_info": {
   "codemirror_mode": {
    "name": "ipython",
    "version": 3
   },
   "file_extension": ".py",
   "mimetype": "text/x-python",
   "name": "python",
   "nbconvert_exporter": "python",
   "pygments_lexer": "ipython3",
   "version": "3.7.4"
  },
  "toc": {
   "base_numbering": 1,
   "nav_menu": {},
   "number_sections": true,
   "sideBar": true,
   "skip_h1_title": false,
   "title_cell": "Table of Contents",
   "title_sidebar": "Contents",
   "toc_cell": false,
   "toc_position": {},
   "toc_section_display": true,
   "toc_window_display": false
  }
 },
 "nbformat": 4,
 "nbformat_minor": 4
}
